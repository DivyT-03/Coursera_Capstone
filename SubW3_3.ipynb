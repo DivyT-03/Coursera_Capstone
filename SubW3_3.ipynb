{
 "cells": [
  {
   "cell_type": "markdown",
   "metadata": {},
   "source": [
    "Importing library and requesting data from the wikipedia page"
   ]
  },
  {
   "cell_type": "code",
   "execution_count": 14,
   "metadata": {},
   "outputs": [],
   "source": [
    "import urllib.request"
   ]
  },
  {
   "cell_type": "code",
   "execution_count": 15,
   "metadata": {},
   "outputs": [],
   "source": [
    "url='https://en.wikipedia.org/wiki/List_of_postal_codes_of_Canada:_M'"
   ]
  },
  {
   "cell_type": "code",
   "execution_count": 16,
   "metadata": {},
   "outputs": [],
   "source": [
    "page = urllib.request.urlopen(url)"
   ]
  },
  {
   "cell_type": "markdown",
   "metadata": {},
   "source": [
    "Importing library for web scrapping"
   ]
  },
  {
   "cell_type": "code",
   "execution_count": 17,
   "metadata": {},
   "outputs": [],
   "source": [
    "#!conda install -c conda-forge bs4 --yes\n",
    "from bs4 import BeautifulSoup"
   ]
  },
  {
   "cell_type": "markdown",
   "metadata": {},
   "source": [
    "Getting html code of the requested page"
   ]
  },
  {
   "cell_type": "code",
   "execution_count": 18,
   "metadata": {},
   "outputs": [],
   "source": [
    "soup = BeautifulSoup(page, 'html5lib')"
   ]
  },
  {
   "cell_type": "code",
   "execution_count": 19,
   "metadata": {},
   "outputs": [],
   "source": [
    "#soup.prettify() Running this code will print the html code where we find the table that we want"
   ]
  },
  {
   "cell_type": "markdown",
   "metadata": {},
   "source": [
    "We Observe the table is surrounded by the html table tags th and td"
   ]
  },
  {
   "cell_type": "code",
   "execution_count": 20,
   "metadata": {},
   "outputs": [],
   "source": [
    "#soup.title\n",
    "#soup.title.string Commands to display title of page we requested"
   ]
  },
  {
   "cell_type": "markdown",
   "metadata": {},
   "source": [
    "Now we find all tables in the page"
   ]
  },
  {
   "cell_type": "code",
   "execution_count": 21,
   "metadata": {},
   "outputs": [],
   "source": [
    "all_tables=soup.find_all(\"table\")\n",
    "#all_tables Run this command to show the extracted html part of all tables"
   ]
  },
  {
   "cell_type": "markdown",
   "metadata": {},
   "source": [
    "We Notice that our table in of class wikitable sortable, so we extract that table"
   ]
  },
  {
   "cell_type": "code",
   "execution_count": 22,
   "metadata": {},
   "outputs": [],
   "source": [
    "right_table=soup.find('table', class_='wikitable sortable')\n",
    "#right_table Run this command to display the table we wanted in html format"
   ]
  },
  {
   "cell_type": "markdown",
   "metadata": {},
   "source": [
    "Now we need to extract data from html format. as there are 3 columns we make 3 lists and append values to them. Note each entry starts with th and ends with td."
   ]
  },
  {
   "cell_type": "code",
   "execution_count": 23,
   "metadata": {},
   "outputs": [],
   "source": [
    "A=[]\n",
    "B=[]\n",
    "C=[]\n",
    "\n",
    "for row in right_table.findAll('tr'):\n",
    "    cells=row.findAll('td')\n",
    "    if len(cells)==3:\n",
    "        A.append(cells[0].find(text=True)[:-1:])\n",
    "        B.append(cells[1].find(text=True)[:-1:])\n",
    "        C.append(cells[2].find(text=True)[:-1:])"
   ]
  },
  {
   "cell_type": "markdown",
   "metadata": {},
   "source": [
    "We convert the lists to dataframe"
   ]
  },
  {
   "cell_type": "code",
   "execution_count": 24,
   "metadata": {},
   "outputs": [],
   "source": [
    "import pandas as pd\n",
    "df=pd.DataFrame(A,columns=['Postal Code'])\n",
    "df['Borough']=B\n",
    "df['Neighbourhood']=C"
   ]
  },
  {
   "cell_type": "code",
   "execution_count": 25,
   "metadata": {},
   "outputs": [],
   "source": [
    "#df Run this command to display ectire dataframe"
   ]
  },
  {
   "cell_type": "markdown",
   "metadata": {},
   "source": [
    "We remove the rows where Borough is \"Not assigned\""
   ]
  },
  {
   "cell_type": "code",
   "execution_count": 26,
   "metadata": {},
   "outputs": [],
   "source": [
    "df1=df[df['Borough']!='Not assigned']\n",
    "#df1 Run this command to display the datafarme"
   ]
  },
  {
   "cell_type": "markdown",
   "metadata": {},
   "source": [
    "We group the entries on the basis of similar postal code. i.e. same postal code with 2 neighbourhood will become 1 entry(row)"
   ]
  },
  {
   "cell_type": "code",
   "execution_count": 27,
   "metadata": {},
   "outputs": [],
   "source": [
    "df2=df1.groupby(['Postal Code','Borough'])['Neighbourhood'].apply(','.join).reset_index()"
   ]
  },
  {
   "cell_type": "code",
   "execution_count": 28,
   "metadata": {},
   "outputs": [],
   "source": [
    "#df2 Run to print the dataframe"
   ]
  },
  {
   "cell_type": "markdown",
   "metadata": {},
   "source": [
    "We check if there is any Neighbourhood \"Not assigned\""
   ]
  },
  {
   "cell_type": "code",
   "execution_count": 65,
   "metadata": {},
   "outputs": [
    {
     "data": {
      "text/html": [
       "<div>\n",
       "<style scoped>\n",
       "    .dataframe tbody tr th:only-of-type {\n",
       "        vertical-align: middle;\n",
       "    }\n",
       "\n",
       "    .dataframe tbody tr th {\n",
       "        vertical-align: top;\n",
       "    }\n",
       "\n",
       "    .dataframe thead th {\n",
       "        text-align: right;\n",
       "    }\n",
       "</style>\n",
       "<table border=\"1\" class=\"dataframe\">\n",
       "  <thead>\n",
       "    <tr style=\"text-align: right;\">\n",
       "      <th></th>\n",
       "      <th>Postal Code</th>\n",
       "      <th>Borough</th>\n",
       "      <th>Neighbourhood</th>\n",
       "    </tr>\n",
       "  </thead>\n",
       "  <tbody>\n",
       "  </tbody>\n",
       "</table>\n",
       "</div>"
      ],
      "text/plain": [
       "Empty DataFrame\n",
       "Columns: [Postal Code, Borough, Neighbourhood]\n",
       "Index: []"
      ]
     },
     "execution_count": 65,
     "metadata": {},
     "output_type": "execute_result"
    }
   ],
   "source": [
    "df2[df2['Neighbourhood']=='']"
   ]
  },
  {
   "cell_type": "markdown",
   "metadata": {},
   "source": [
    "As there are no such rows- df2 is our final dataframe. useing .shape to find number of rows"
   ]
  },
  {
   "cell_type": "code",
   "execution_count": 30,
   "metadata": {},
   "outputs": [],
   "source": [
    "count=df2.shape"
   ]
  },
  {
   "cell_type": "code",
   "execution_count": 31,
   "metadata": {},
   "outputs": [
    {
     "name": "stdout",
     "output_type": "stream",
     "text": [
      "No of rows 103\n",
      "No of columns 3\n"
     ]
    }
   ],
   "source": [
    "print(\"No of rows\",count[0])\n",
    "print(\"No of columns\",count[1])"
   ]
  },
  {
   "cell_type": "code",
   "execution_count": 47,
   "metadata": {},
   "outputs": [],
   "source": [
    "#!conda install -c conda-forge geocoder --yes\n",
    "#!conda install -c conda-forge geopy --yes\n",
    "import geocoder\n",
    "from geopy.geocoders import Nominatim #To get latitude and longitide"
   ]
  },
  {
   "cell_type": "code",
   "execution_count": 77,
   "metadata": {},
   "outputs": [
    {
     "name": "stdout",
     "output_type": "stream",
     "text": [
      "45 Davisville North\n",
      "53 Regent Park \n",
      "61 Commerce Court \n",
      "68 CN Tower \n",
      "76 Dufferin \n",
      "83 Parkdale \n",
      "86 Canada Post Gateway Processing Centre\n",
      "87 Business reply mail Processing CentrE\n",
      "91 Old Mill South \n",
      "95 Eringate \n",
      "102 Northwest\n"
     ]
    }
   ],
   "source": [
    "latitudelst=[]\n",
    "longitudelst=[]\n",
    "x=0\n",
    "for x,i in enumerate(df2['Neighbourhood']):\n",
    "    try:\n",
    "        i=i.split('/')[0]\n",
    "    finally:\n",
    "        geolocator=Nominatim(user_agent='foursquare_agent')\n",
    "        try:\n",
    "            location=geolocator.geocode(i)\n",
    "            latitudelst.append(location.latitude)\n",
    "            longitudelst.append(location.longitude)\n",
    "        except:\n",
    "            print(x,i)\n",
    "            latitudelst.append(\"Not assigned\")\n",
    "            longitudelst.append(\"Not assigned\")"
   ]
  },
  {
   "cell_type": "markdown",
   "metadata": {},
   "source": [
    "The folloewing Latitude and Longitude wasn't found:\n",
    "\n",
    "45 Davisville North;\n",
    "53 Regent Park ;\n",
    "61 Commerce Court; \n",
    "68 CN Tower ;\n",
    "76 Dufferin ;\n",
    "83 Parkdale ;\n",
    "86 Canada Post Gateway Processing Centre;\n",
    "87 Business reply mail Processing CentrE;\n",
    "91 Old Mill South; \n",
    "95 Eringate ;\n",
    "102 Northwest;\n",
    "\n",
    "So we insert them manually from the given CSV file."
   ]
  },
  {
   "cell_type": "code",
   "execution_count": 128,
   "metadata": {},
   "outputs": [],
   "source": [
    "latitudelst[45]=43.7127511\n",
    "latitudelst[53]=43.6542599\n",
    "latitudelst[61]=43.6481985\n",
    "latitudelst[68]=43.6289467\n",
    "latitudelst[76]=43.6690051\n",
    "latitudelst[83]=43.6489597\n",
    "latitudelst[86]=43.6366956\n",
    "latitudelst[87]=43.6627439\n",
    "latitudelst[91]=43.6362579\n",
    "latitudelst[95]=43.6435152\n",
    "latitudelst[102]=43.7067483\n",
    "\n",
    "longitudelst[45]=-79.3901975\n",
    "longitudelst[53]=-79.3606359\n",
    "longitudelst[61]=-79.3798169\n",
    "longitudelst[68]=-79.3944199\n",
    "longitudelst[76]=-79.4422593\n",
    "longitudelst[83]=-79.456325\n",
    "longitudelst[86]=-79.615819\n",
    "longitudelst[87]=-79.321558\n",
    "longitudelst[91]=-79.4985091\n",
    "longitudelst[95]=-79.5772008\n",
    "longitudelst[102]=-79.5940544"
   ]
  },
  {
   "cell_type": "code",
   "execution_count": 129,
   "metadata": {},
   "outputs": [],
   "source": [
    "df2['Latitude']=latitudelst\n",
    "df2['Longitude']=longitudelst"
   ]
  },
  {
   "cell_type": "code",
   "execution_count": 130,
   "metadata": {},
   "outputs": [
    {
     "data": {
      "text/html": [
       "<div>\n",
       "<style scoped>\n",
       "    .dataframe tbody tr th:only-of-type {\n",
       "        vertical-align: middle;\n",
       "    }\n",
       "\n",
       "    .dataframe tbody tr th {\n",
       "        vertical-align: top;\n",
       "    }\n",
       "\n",
       "    .dataframe thead th {\n",
       "        text-align: right;\n",
       "    }\n",
       "</style>\n",
       "<table border=\"1\" class=\"dataframe\">\n",
       "  <thead>\n",
       "    <tr style=\"text-align: right;\">\n",
       "      <th></th>\n",
       "      <th>Postal Code</th>\n",
       "      <th>Borough</th>\n",
       "      <th>Neighbourhood</th>\n",
       "      <th>Latitude</th>\n",
       "      <th>Longitude</th>\n",
       "    </tr>\n",
       "  </thead>\n",
       "  <tbody>\n",
       "    <tr>\n",
       "      <th>0</th>\n",
       "      <td>M1B</td>\n",
       "      <td>Scarborough</td>\n",
       "      <td>Malvern / Rouge</td>\n",
       "      <td>52.115956</td>\n",
       "      <td>-2.325899</td>\n",
       "    </tr>\n",
       "    <tr>\n",
       "      <th>1</th>\n",
       "      <td>M1C</td>\n",
       "      <td>Scarborough</td>\n",
       "      <td>Rouge Hill / Port Union / Highland Creek</td>\n",
       "      <td>43.780271</td>\n",
       "      <td>-79.130499</td>\n",
       "    </tr>\n",
       "    <tr>\n",
       "      <th>2</th>\n",
       "      <td>M1E</td>\n",
       "      <td>Scarborough</td>\n",
       "      <td>Guildwood / Morningside / West Hill</td>\n",
       "      <td>43.755225</td>\n",
       "      <td>-79.198229</td>\n",
       "    </tr>\n",
       "    <tr>\n",
       "      <th>3</th>\n",
       "      <td>M1G</td>\n",
       "      <td>Scarborough</td>\n",
       "      <td>Woburn</td>\n",
       "      <td>42.479262</td>\n",
       "      <td>-71.152277</td>\n",
       "    </tr>\n",
       "    <tr>\n",
       "      <th>4</th>\n",
       "      <td>M1H</td>\n",
       "      <td>Scarborough</td>\n",
       "      <td>Cedarbrae</td>\n",
       "      <td>50.956318</td>\n",
       "      <td>-114.129323</td>\n",
       "    </tr>\n",
       "  </tbody>\n",
       "</table>\n",
       "</div>"
      ],
      "text/plain": [
       "  Postal Code      Borough                             Neighbourhood  \\\n",
       "0         M1B  Scarborough                           Malvern / Rouge   \n",
       "1         M1C  Scarborough  Rouge Hill / Port Union / Highland Creek   \n",
       "2         M1E  Scarborough       Guildwood / Morningside / West Hill   \n",
       "3         M1G  Scarborough                                    Woburn   \n",
       "4         M1H  Scarborough                                 Cedarbrae   \n",
       "\n",
       "    Latitude   Longitude  \n",
       "0  52.115956   -2.325899  \n",
       "1  43.780271  -79.130499  \n",
       "2  43.755225  -79.198229  \n",
       "3  42.479262  -71.152277  \n",
       "4  50.956318 -114.129323  "
      ]
     },
     "execution_count": 130,
     "metadata": {},
     "output_type": "execute_result"
    }
   ],
   "source": [
    "df2.head()"
   ]
  },
  {
   "cell_type": "code",
   "execution_count": 131,
   "metadata": {},
   "outputs": [
    {
     "name": "stdout",
     "output_type": "stream",
     "text": [
      "The dataframe has 10 boroughs and 103 neighborhoods.\n"
     ]
    }
   ],
   "source": [
    "print('The dataframe has {} boroughs and {} neighborhoods.'.format(\n",
    "        len(df2['Borough'].unique()),\n",
    "        df2.shape[0]\n",
    "    )\n",
    ")"
   ]
  },
  {
   "cell_type": "markdown",
   "metadata": {},
   "source": [
    "Made a list containing burough containing Toronto in name"
   ]
  },
  {
   "cell_type": "code",
   "execution_count": 132,
   "metadata": {},
   "outputs": [
    {
     "data": {
      "text/plain": [
       "['East Toronto', 'Central Toronto', 'Downtown Toronto', 'West Toronto']"
      ]
     },
     "execution_count": 132,
     "metadata": {},
     "output_type": "execute_result"
    }
   ],
   "source": [
    "Toronto_borough=[]\n",
    "for i in df2['Borough'].unique():\n",
    "    if i.endswith(\"Toronto\"): \n",
    "        Toronto_borough.append(i)\n",
    "        \n",
    "Toronto_borough"
   ]
  },
  {
   "cell_type": "markdown",
   "metadata": {},
   "source": [
    "Creating a dataframe of Toronto Borough"
   ]
  },
  {
   "cell_type": "code",
   "execution_count": 133,
   "metadata": {},
   "outputs": [],
   "source": [
    "from functools import reduce\n",
    "dfs=[df2[df2['Borough'] =='East Toronto'],df2[df2['Borough'] =='West Toronto'],df2[df2['Borough'] =='Downtown Toronto'],df2[df2['Borough'] =='Central Toronto']]\n",
    "df_merged = reduce(lambda  left,right: pd.merge(left,right,on=['Postal Code','Borough','Neighbourhood','Latitude','Longitude'],how='outer'), dfs)"
   ]
  },
  {
   "cell_type": "markdown",
   "metadata": {},
   "source": [
    "Importing folium to make map and setting latitude and longitude of toronto "
   ]
  },
  {
   "cell_type": "code",
   "execution_count": 139,
   "metadata": {},
   "outputs": [
    {
     "data": {
      "text/html": [
       "<div style=\"width:100%;\"><div style=\"position:relative;width:100%;height:0;padding-bottom:60%;\"><iframe src=\"about:blank\" style=\"position:absolute;width:100%;height:100%;left:0;top:0;border:none !important;\" data-html=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 onload=\"this.contentDocument.open();this.contentDocument.write(atob(this.getAttribute('data-html')));this.contentDocument.close();\" allowfullscreen webkitallowfullscreen mozallowfullscreen></iframe></div></div>"
      ],
      "text/plain": [
       "<folium.folium.Map at 0x7ff8d9758e48>"
      ]
     },
     "execution_count": 139,
     "metadata": {},
     "output_type": "execute_result"
    }
   ],
   "source": [
    "import folium\n",
    "\n",
    "latitude_map=43.6532\n",
    "longitude_map=-79.3832\n",
    "\n",
    "map_Toronto = folium.Map(location=[latitude_map, longitude_map], zoom_start=13)\n",
    "\n",
    "for lat, lng, borough, neighborhood in zip(df_merged['Latitude'], df_merged['Longitude'], df_merged['Borough'], df_merged['Neighbourhood']):\n",
    "    label = '{}, {}'.format(neighborhood, borough)\n",
    "    label = folium.Popup(label, parse_html=True)\n",
    "    folium.CircleMarker(\n",
    "        [lat, lng],\n",
    "        radius=5,\n",
    "        popup=label,\n",
    "        color='blue',\n",
    "        fill=True,\n",
    "        fill_color='#3186cc',\n",
    "        fill_opacity=0.7,\n",
    "        parse_html=False).add_to(map_Toronto)  \n",
    "    \n",
    "map_Toronto"
   ]
  },
  {
   "cell_type": "code",
   "execution_count": null,
   "metadata": {},
   "outputs": [],
   "source": []
  }
 ],
 "metadata": {
  "kernelspec": {
   "display_name": "Python",
   "language": "python",
   "name": "conda-env-python-py"
  },
  "language_info": {
   "codemirror_mode": {
    "name": "ipython",
    "version": 3
   },
   "file_extension": ".py",
   "mimetype": "text/x-python",
   "name": "python",
   "nbconvert_exporter": "python",
   "pygments_lexer": "ipython3",
   "version": "3.6.10"
  }
 },
 "nbformat": 4,
 "nbformat_minor": 4
}
